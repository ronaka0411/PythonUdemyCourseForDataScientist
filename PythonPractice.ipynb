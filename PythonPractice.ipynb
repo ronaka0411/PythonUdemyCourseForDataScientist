{
 "cells": [
  {
   "cell_type": "code",
   "execution_count": 1,
   "metadata": {
    "collapsed": true
   },
   "outputs": [],
   "source": [
    "phrase = \"\"\"\n",
    "It is a really long string\n",
    "triple-quoted strings are used\n",
    "to define multi-line strings\n",
    "\"\"\""
   ]
  },
  {
   "cell_type": "code",
   "execution_count": 4,
   "metadata": {},
   "outputs": [
    {
     "name": "stdout",
     "output_type": "stream",
     "text": [
      "88\n",
      "\n",
      "It is a really long string\n",
      "triple-quoted st\n"
     ]
    }
   ],
   "source": [
    "#The len() function is used to count how many characters a string contains. \n",
    "#Get the first half of the string stored in the variable phrase. \n",
    "\n",
    "print(len(phrase))\n",
    "print(phrase[0:int(len(phrase)/2)])"
   ]
  },
  {
   "cell_type": "code",
   "execution_count": null,
   "metadata": {
    "collapsed": true
   },
   "outputs": [],
   "source": []
  }
 ],
 "metadata": {
  "kernelspec": {
   "display_name": "Python 3",
   "language": "python",
   "name": "python3"
  },
  "language_info": {
   "codemirror_mode": {
    "name": "ipython",
    "version": 3
   },
   "file_extension": ".py",
   "mimetype": "text/x-python",
   "name": "python",
   "nbconvert_exporter": "python",
   "pygments_lexer": "ipython3",
   "version": "3.6.3"
  }
 },
 "nbformat": 4,
 "nbformat_minor": 2
}
